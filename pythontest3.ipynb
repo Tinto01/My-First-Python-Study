{
 "cells": [
  {
   "cell_type": "markdown",
   "metadata": {},
   "source": [
    "## 241223 수업"
   ]
  },
  {
   "cell_type": "code",
   "execution_count": 3,
   "metadata": {},
   "outputs": [
    {
     "name": "stdout",
     "output_type": "stream",
     "text": [
      "2 4 6 8 10 12 14 16 18 \n",
      "3 6 9 12 15 18 21 24 27 \n",
      "4 8 12 16 20 24 28 32 36 \n",
      "5 10 15 20 25 30 35 40 45 \n",
      "6 12 18 24 30 36 42 48 54 \n",
      "7 14 21 28 35 42 49 56 63 \n",
      "8 16 24 32 40 48 56 64 72 \n",
      "9 18 27 36 45 54 63 72 81 \n"
     ]
    }
   ],
   "source": [
    "for dan in range(2, 10):\n",
    "    for su in range(1, 10):\n",
    "        print(dan*su, end=\" \")\n",
    "    print()"
   ]
  },
  {
   "cell_type": "code",
   "execution_count": 32,
   "metadata": {},
   "outputs": [],
   "source": [
    "menu = {'김밥':2000, '떡볶이':3000, '라면':5000}"
   ]
  },
  {
   "cell_type": "code",
   "execution_count": 13,
   "metadata": {},
   "outputs": [
    {
     "data": {
      "text/plain": [
       "dict_keys(['김밥', '떡볶이', '라면'])"
      ]
     },
     "execution_count": 13,
     "metadata": {},
     "output_type": "execute_result"
    }
   ],
   "source": [
    "menu.keys()"
   ]
  },
  {
   "cell_type": "code",
   "execution_count": 31,
   "metadata": {},
   "outputs": [
    {
     "data": {
      "text/plain": [
       "dict_items([('김밥', 2000), ('떡볶이', 3000)])"
      ]
     },
     "execution_count": 31,
     "metadata": {},
     "output_type": "execute_result"
    }
   ],
   "source": [
    "menu.items()"
   ]
  },
  {
   "cell_type": "code",
   "execution_count": 15,
   "metadata": {},
   "outputs": [
    {
     "data": {
      "text/plain": [
       "dict_values([2000, 3000, 5000])"
      ]
     },
     "execution_count": 15,
     "metadata": {},
     "output_type": "execute_result"
    }
   ],
   "source": [
    "menu.values()"
   ]
  },
  {
   "cell_type": "code",
   "execution_count": 23,
   "metadata": {},
   "outputs": [],
   "source": [
    "menu['로제떡볶이'] = 3000"
   ]
  },
  {
   "cell_type": "code",
   "execution_count": 17,
   "metadata": {},
   "outputs": [
    {
     "data": {
      "text/plain": [
       "5000"
      ]
     },
     "execution_count": 17,
     "metadata": {},
     "output_type": "execute_result"
    }
   ],
   "source": [
    "menu.pop('라면')"
   ]
  },
  {
   "cell_type": "code",
   "execution_count": 18,
   "metadata": {},
   "outputs": [],
   "source": [
    "addrs = {'name':2000, 'phone':3000, 'addr':5000}"
   ]
  },
  {
   "cell_type": "code",
   "execution_count": 19,
   "metadata": {},
   "outputs": [],
   "source": [
    "addrs_list = [{'name1':2000, 'phone1':3000, 'addr1':5000},\n",
    "              {'name2':2000, 'phone2':3000, 'addr2':5000},\n",
    "              {'name3':2000, 'phone3':3000, 'addr3':5000}]"
   ]
  },
  {
   "cell_type": "code",
   "execution_count": 20,
   "metadata": {},
   "outputs": [
    {
     "data": {
      "text/plain": [
       "{'name2': 2000, 'phone2': 3000, 'addr2': 5000}"
      ]
     },
     "execution_count": 20,
     "metadata": {},
     "output_type": "execute_result"
    }
   ],
   "source": [
    "addrs_list.pop(1)"
   ]
  },
  {
   "cell_type": "code",
   "execution_count": 21,
   "metadata": {},
   "outputs": [
    {
     "name": "stdout",
     "output_type": "stream",
     "text": [
      "김밥 2000\n",
      "떡볶이 3000\n",
      "로제제떡볶이 3000\n"
     ]
    }
   ],
   "source": [
    "for key, value in menu.items() :\n",
    "    print(key, value)"
   ]
  },
  {
   "cell_type": "code",
   "execution_count": 24,
   "metadata": {},
   "outputs": [
    {
     "data": {
      "text/plain": [
       "('로제떡볶이', 3000)"
      ]
     },
     "execution_count": 24,
     "metadata": {},
     "output_type": "execute_result"
    }
   ],
   "source": [
    "menu.popitem()"
   ]
  },
  {
   "cell_type": "code",
   "execution_count": 33,
   "metadata": {},
   "outputs": [
    {
     "name": "stdout",
     "output_type": "stream",
     "text": [
      "5000\n"
     ]
    }
   ],
   "source": [
    "print(menu.get('라면'))"
   ]
  },
  {
   "cell_type": "code",
   "execution_count": 34,
   "metadata": {},
   "outputs": [],
   "source": [
    "a_list = [3, 'hello', [4, 5, 6], {'a':1, 'b':2}]"
   ]
  },
  {
   "cell_type": "code",
   "execution_count": 35,
   "metadata": {},
   "outputs": [],
   "source": [
    "ToDoList = ['강아지 산책', '운동', '영어공부']"
   ]
  },
  {
   "cell_type": "code",
   "execution_count": 37,
   "metadata": {},
   "outputs": [],
   "source": [
    "ToDoList.append('수업듣기')"
   ]
  },
  {
   "cell_type": "code",
   "execution_count": 5,
   "metadata": {},
   "outputs": [
    {
     "name": "stdout",
     "output_type": "stream",
     "text": [
      "오늘 할일: 강아지 산책, 운동, 영어공부\n",
      "강아지 산책 done\n",
      "******************************\n",
      "\n",
      "오늘 할일: 운동, 영어공부\n",
      "운동 done\n",
      "******************************\n",
      "\n",
      "오늘 할일: 영어공부\n",
      "영어공부 done\n",
      "******************************\n",
      "\n",
      "남은 할일: \n",
      "할일을 모두 완료하였습니다. 고생하셨습니다.\n"
     ]
    }
   ],
   "source": [
    "ToDoList = ['강아지 산책', '운동', '영어공부']\n",
    "\n",
    "while ToDoList:\n",
    "    print('오늘 할일:', ', '.join(ToDoList))\n",
    "    Check = input('할일 내용을 입력해주세요.: ')\n",
    "    if Check in ToDoList:\n",
    "        ToDoList.remove(Check)\n",
    "        print(Check, 'done')\n",
    "        print('*'*30)\n",
    "        print()\n",
    "    elif Check not in ToDoList:\n",
    "        ToDoList.append(Check)\n",
    "        print(Check+'할일이 추가되었습니다.')\n",
    "\n",
    "\n",
    "print('남은 할일:', ', '.join(ToDoList))\n",
    "print('할일을 모두 완료하였습니다. 고생하셨습니다.')"
   ]
  },
  {
   "cell_type": "code",
   "execution_count": 9,
   "metadata": {},
   "outputs": [
    {
     "name": "stdout",
     "output_type": "stream",
     "text": [
      "메뉴(1. 할일 추가, 2. 할일 삭제, 0. 종료) : \n",
      "1.운동\n",
      "********************\n",
      "메뉴(1. 할일 추가, 2. 할일 삭제, 0. 종료) : \n",
      "********************\n",
      "메뉴(1. 할일 추가, 2. 할일 삭제, 0. 종료) : \n",
      "프로그램을 종료합니다.\n"
     ]
    }
   ],
   "source": [
    "Todo = []\n",
    "\n",
    "while True :\n",
    "    print('메뉴(1. 할일 추가, 2. 할일 삭제, 0. 종료) : ')\n",
    "    menu = int(input('메뉴(1. 할일 추가, 2. 할일 삭제, 0. 종료) : '))\n",
    "    if menu == 1:\n",
    "        Todo.append(input('할일 내용 입력>> '))\n",
    "    elif menu == 2:\n",
    "        Todo.remove(input('완료한 내용 입력>> '))\n",
    "    elif menu == 0 :\n",
    "        print('프로그램을 종료합니다.')\n",
    "        break\n",
    "    else : \n",
    "        print('잘못된 번호를 입력했습니다.')\n",
    "        continue\n",
    "\n",
    "    for i in range(len(Todo)):\n",
    "        print(f'{i+1}.{Todo[i]}')\n",
    "    print('*'*20)\n"
   ]
  },
  {
   "cell_type": "code",
   "execution_count": 10,
   "metadata": {},
   "outputs": [
    {
     "name": "stdout",
     "output_type": "stream",
     "text": [
      "어떤 분의 전화번호를 찾고 싶은가요? (1. 추가, 2. 검색, 3. 종료)\n",
      "1\n",
      "잘못된 번호를 입력했습니다.\n",
      "어떤 분의 전화번호를 찾고 싶은가요? (1. 추가, 2. 검색, 3. 종료)\n",
      "1\n",
      "잘못된 번호를 입력했습니다.\n",
      "어떤 분의 전화번호를 찾고 싶은가요? (1. 추가, 2. 검색, 3. 종료)\n",
      "1\n",
      "잘못된 번호를 입력했습니다.\n",
      "어떤 분의 전화번호를 찾고 싶은가요? (1. 추가, 2. 검색, 3. 종료)\n"
     ]
    }
   ],
   "source": [
    "addr={'최재원': '010-1111-1111', '유재석':'010-2222-2222',\n",
    "      '김연수': '010-3333-3333', '김석진':'010-4444-4444'}\n",
    "\n",
    "\n",
    "while True :\n",
    "    print('어떤 분의 전화번호를 찾고 싶은가요? (1. 추가, 2. 검색, 3. 종료)')\n",
    "    num=input('어떤 분의 전화번호를 찾고 싶은가요? (1. 추가, 2. 검색, 3. 종료)')\n",
    "    print(num)\n",
    "\n",
    "    if num == 1 :\n",
    "        addr_key = input('친구 이름 입력>> ')\n",
    "        addr_value = input('전화번호 입력>>> ')\n",
    "        addr[addr_key] = addr_value\n",
    "    elif num == 2:\n",
    "        print('내 친구들', list(addr.keys()))\n",
    "        name = input('검색할 친구 이름 입력>> ')\n",
    "        print(addr.get(name))\n",
    "    elif num == 0 :\n",
    "        print('프로그램을 종료합니다.')\n",
    "        break\n",
    "    else : \n",
    "        print('잘못된 번호를 입력했습니다.')\n",
    "        continue\n",
    "\n",
    "    for i in range(len(addr)):\n",
    "        print(f'{i+1}.{addr[i]}')\n",
    "    print('*'*20)"
   ]
  },
  {
   "cell_type": "code",
   "execution_count": 3,
   "metadata": {},
   "outputs": [
    {
     "name": "stdout",
     "output_type": "stream",
     "text": [
      "메뉴선택(1. 추가, 2. 검색, 0. 종료)? : 2\n",
      "내 친구들 ['박지민', '전정국', '정호석', '김석진', '김남준']\n",
      "010-1111-1111\n",
      "메뉴선택(1. 추가, 2. 검색, 0. 종료)? : 0\n",
      "프로그램을 종료합니다.\n"
     ]
    }
   ],
   "source": [
    "addr = {\n",
    "    '박지민': '010-1111-1111', \n",
    "    '전정국': '010-2222-2222', \n",
    "    '정호석': '010-3333-3333', \n",
    "    '김석진': '010-4444-4444', \n",
    "    '김남준': '010-6666-6666', \n",
    "}\n",
    "\n",
    "while True:\n",
    "    print('메뉴선택(1. 추가, 2. 검색, 0. 종료)? :', end=\" \")\n",
    "    menu = int(input('메뉴선택(1. 추가, 2. 검색, 0. 종료)? :'))\n",
    "    print(menu)\n",
    "\n",
    "    if menu == 1: # 추가\n",
    "        addr_key = input('친구 이름 입력>> ')\n",
    "        addr_value = input('전화번호 입력>> ')\n",
    "        addr[addr_key] = addr_value # 새로운 요소 삽입\n",
    "    elif menu == 2: # 검색\n",
    "        # 어떤친구이름이 있는지보여주기\n",
    "        print('내 친구들', list(addr.keys()))\n",
    "        name = input('검색할 친구 이름 입력>> ')\n",
    "        print(addr[name]) \n",
    "        # if addr.get(name):\n",
    "        #     print('그런 이름 없음')\n",
    "        # else:\n",
    "        #     print(addr.get(name))     \n",
    "    elif menu == 0:\n",
    "        print('프로그램을 종료합니다.')\n",
    "        break\n",
    "    else:\n",
    "        print('잘못된 번호를 입력했습니다.')\n",
    "        continue"
   ]
  },
  {
   "cell_type": "markdown",
   "metadata": {},
   "source": [
    "### 튜플"
   ]
  },
  {
   "cell_type": "code",
   "execution_count": 4,
   "metadata": {},
   "outputs": [],
   "source": [
    "t1 = ()\n",
    "t2 = (1, )"
   ]
  },
  {
   "cell_type": "code",
   "execution_count": 5,
   "metadata": {},
   "outputs": [
    {
     "name": "stdout",
     "output_type": "stream",
     "text": [
      "(1,)\n"
     ]
    }
   ],
   "source": [
    "print(t2)"
   ]
  },
  {
   "cell_type": "code",
   "execution_count": 13,
   "metadata": {},
   "outputs": [
    {
     "name": "stdout",
     "output_type": "stream",
     "text": [
      "orange! 정답입니다.\n"
     ]
    }
   ],
   "source": [
    "fruit = [\"apple\", \"grapes\", \"orange\"]\n",
    "q1 = input('좋아하는 과일은?')\n",
    "if q1 in fruit:\n",
    "    print(q1+\"! 정답입니다.\")\n",
    "else:\n",
    "    print(q1+\"? 오답입니다.\")"
   ]
  },
  {
   "cell_type": "code",
   "execution_count": 19,
   "metadata": {},
   "outputs": [
    {
     "name": "stdout",
     "output_type": "stream",
     "text": [
      "ArithmeticError\n",
      "AssertionError\n",
      "AttributeError\n",
      "BaseException\n",
      "BaseExceptionGroup\n",
      "BlockingIOError\n",
      "BrokenPipeError\n",
      "BufferError\n",
      "BytesWarning\n",
      "ChildProcessError\n",
      "ConnectionAbortedError\n",
      "ConnectionError\n",
      "ConnectionRefusedError\n",
      "ConnectionResetError\n",
      "DeprecationWarning\n",
      "EOFError\n",
      "Ellipsis\n",
      "EncodingWarning\n",
      "EnvironmentError\n",
      "Exception\n",
      "ExceptionGroup\n",
      "False\n",
      "FileExistsError\n",
      "FileNotFoundError\n",
      "FloatingPointError\n",
      "FutureWarning\n",
      "GeneratorExit\n",
      "IOError\n",
      "ImportError\n",
      "ImportWarning\n",
      "IndentationError\n",
      "IndexError\n",
      "InterruptedError\n",
      "IsADirectoryError\n",
      "KeyError\n",
      "KeyboardInterrupt\n",
      "LookupError\n",
      "MemoryError\n",
      "ModuleNotFoundError\n",
      "NameError\n",
      "None\n",
      "NotADirectoryError\n",
      "NotImplemented\n",
      "NotImplementedError\n",
      "OSError\n",
      "OverflowError\n",
      "PendingDeprecationWarning\n",
      "PermissionError\n",
      "ProcessLookupError\n",
      "PythonFinalizationError\n",
      "RecursionError\n",
      "ReferenceError\n",
      "ResourceWarning\n",
      "RuntimeError\n",
      "RuntimeWarning\n",
      "StopAsyncIteration\n",
      "StopIteration\n",
      "SyntaxError\n",
      "SyntaxWarning\n",
      "SystemError\n",
      "SystemExit\n",
      "TabError\n",
      "TimeoutError\n",
      "True\n",
      "TypeError\n",
      "UnboundLocalError\n",
      "UnicodeDecodeError\n",
      "UnicodeEncodeError\n",
      "UnicodeError\n",
      "UnicodeTranslateError\n",
      "UnicodeWarning\n",
      "UserWarning\n",
      "ValueError\n",
      "Warning\n",
      "WindowsError\n",
      "ZeroDivisionError\n",
      "_IncompleteInputError\n",
      "__IPYTHON__\n",
      "__build_class__\n",
      "__debug__\n",
      "__doc__\n",
      "__import__\n",
      "__loader__\n",
      "__name__\n",
      "__package__\n",
      "__spec__\n",
      "abs\n",
      "aiter\n",
      "all\n",
      "anext\n",
      "any\n",
      "ascii\n",
      "bin\n",
      "bool\n",
      "breakpoint\n",
      "bytearray\n",
      "bytes\n",
      "callable\n",
      "chr\n",
      "classmethod\n",
      "compile\n",
      "complex\n",
      "copyright\n",
      "credits\n",
      "delattr\n",
      "dict\n",
      "dir\n",
      "display\n",
      "divmod\n",
      "enumerate\n",
      "eval\n",
      "exec\n",
      "execfile\n",
      "filter\n",
      "float\n",
      "format\n",
      "frozenset\n",
      "get_ipython\n",
      "getattr\n",
      "globals\n",
      "hasattr\n",
      "hash\n",
      "help\n",
      "hex\n",
      "id\n",
      "input\n",
      "int\n",
      "isinstance\n",
      "issubclass\n",
      "iter\n",
      "len\n",
      "license\n",
      "list\n",
      "locals\n",
      "map\n",
      "max\n",
      "memoryview\n",
      "min\n",
      "next\n",
      "object\n",
      "oct\n",
      "open\n",
      "ord\n",
      "pow\n",
      "print\n",
      "property\n",
      "range\n",
      "repr\n",
      "reversed\n",
      "round\n",
      "runfile\n",
      "set\n",
      "setattr\n",
      "slice\n",
      "sorted\n",
      "staticmethod\n",
      "str\n",
      "sum\n",
      "super\n",
      "tuple\n",
      "type\n",
      "vars\n",
      "zip\n"
     ]
    }
   ],
   "source": [
    "for i in dir(__builtins__):print(i)"
   ]
  },
  {
   "cell_type": "code",
   "execution_count": 21,
   "metadata": {},
   "outputs": [
    {
     "ename": "SyntaxError",
     "evalue": "invalid syntax (1110849591.py, line 2)",
     "output_type": "error",
     "traceback": [
      "\u001b[1;36m  Cell \u001b[1;32mIn[21], line 2\u001b[1;36m\u001b[0m\n\u001b[1;33m    수행할 명령어\u001b[0m\n\u001b[1;37m        ^\u001b[0m\n\u001b[1;31mSyntaxError\u001b[0m\u001b[1;31m:\u001b[0m invalid syntax\n"
     ]
    }
   ],
   "source": [
    "def 함수이름(매개변수):\n",
    "    수행할 명령어\n",
    "    return 리턴값"
   ]
  },
  {
   "cell_type": "code",
   "execution_count": 22,
   "metadata": {},
   "outputs": [],
   "source": [
    "def Hi():\n",
    "    print('Hi')"
   ]
  },
  {
   "cell_type": "code",
   "execution_count": 23,
   "metadata": {},
   "outputs": [
    {
     "name": "stdout",
     "output_type": "stream",
     "text": [
      "Hi\n",
      "Hi\n"
     ]
    }
   ],
   "source": [
    "Hi()\n",
    "Hi()"
   ]
  },
  {
   "cell_type": "code",
   "execution_count": 24,
   "metadata": {},
   "outputs": [
    {
     "data": {
      "text/plain": [
       "<function __main__.Hi()>"
      ]
     },
     "execution_count": 24,
     "metadata": {},
     "output_type": "execute_result"
    }
   ],
   "source": [
    "Hi"
   ]
  },
  {
   "cell_type": "code",
   "execution_count": 25,
   "metadata": {},
   "outputs": [],
   "source": [
    "def NameHi(name):\n",
    "    print(f'{name}야 안녕!')"
   ]
  },
  {
   "cell_type": "code",
   "execution_count": 26,
   "metadata": {},
   "outputs": [
    {
     "name": "stdout",
     "output_type": "stream",
     "text": [
      "지니야 안녕!\n",
      "토리야 안녕!\n"
     ]
    }
   ],
   "source": [
    "NameHi('지니')\n",
    "NameHi('토리')"
   ]
  },
  {
   "cell_type": "code",
   "execution_count": 28,
   "metadata": {},
   "outputs": [],
   "source": [
    "def add(a,b):\n",
    "    return a+b"
   ]
  },
  {
   "cell_type": "code",
   "execution_count": 30,
   "metadata": {},
   "outputs": [
    {
     "name": "stdout",
     "output_type": "stream",
     "text": [
      "7\n"
     ]
    }
   ],
   "source": [
    "add_value = add(3,4)\n",
    "print(add_value)"
   ]
  },
  {
   "cell_type": "code",
   "execution_count": 31,
   "metadata": {},
   "outputs": [],
   "source": [
    "def HiReturn():\n",
    "    return 'Hi'"
   ]
  },
  {
   "cell_type": "code",
   "execution_count": 32,
   "metadata": {},
   "outputs": [
    {
     "data": {
      "text/plain": [
       "'Hi'"
      ]
     },
     "execution_count": 32,
     "metadata": {},
     "output_type": "execute_result"
    }
   ],
   "source": [
    "HiReturn()"
   ]
  },
  {
   "cell_type": "code",
   "execution_count": 43,
   "metadata": {},
   "outputs": [],
   "source": [
    "def num_max(a, b, c):\n",
    "    if a > b and a > c :\n",
    "        print(a)\n",
    "    elif b > a and b > c:\n",
    "        print(b)\n",
    "    elif c > a and c > b:\n",
    "        print(c)"
   ]
  },
  {
   "cell_type": "code",
   "execution_count": 48,
   "metadata": {},
   "outputs": [
    {
     "name": "stdout",
     "output_type": "stream",
     "text": [
      "7\n"
     ]
    }
   ],
   "source": [
    "num_max(7,5,3)"
   ]
  },
  {
   "cell_type": "code",
   "execution_count": 49,
   "metadata": {},
   "outputs": [
    {
     "name": "stdout",
     "output_type": "stream",
     "text": [
      "5\n"
     ]
    }
   ],
   "source": [
    "arr = [10, 20, 5, 8, 30]\n",
    "\n",
    "# 초기값을 배열의 첫 번째 값으로 설정\n",
    "smallest = arr[0]\n",
    "\n",
    "# 배열 순회하면서 비교\n",
    "for num in arr:\n",
    "    if num < smallest:\n",
    "        smallest = num\n",
    "\n",
    "print(smallest)  # 출력: 5"
   ]
  },
  {
   "cell_type": "code",
   "execution_count": 67,
   "metadata": {},
   "outputs": [],
   "source": [
    "def isLeafYear(year):\n",
    "    return year % 4 == 0 and year % 100 != 0 or year % 400 == 0"
   ]
  },
  {
   "cell_type": "code",
   "execution_count": 72,
   "metadata": {},
   "outputs": [
    {
     "data": {
      "text/plain": [
       "True"
      ]
     },
     "execution_count": 72,
     "metadata": {},
     "output_type": "execute_result"
    }
   ],
   "source": [
    "isLeafYear(1996)"
   ]
  },
  {
   "cell_type": "code",
   "execution_count": 73,
   "metadata": {},
   "outputs": [],
   "source": [
    "def add_many(*args):\n",
    "    result = 0\n",
    "    for i in args:\n",
    "        result += i\n",
    "    return result "
   ]
  },
  {
   "cell_type": "code",
   "execution_count": 74,
   "metadata": {},
   "outputs": [
    {
     "name": "stdout",
     "output_type": "stream",
     "text": [
      "5\n",
      "55\n"
     ]
    }
   ],
   "source": [
    "print(add_many(2, 3))\n",
    "print(add_many(1, 2, 3, 4, 5, 6, 7, 8, 9, 10))"
   ]
  },
  {
   "cell_type": "code",
   "execution_count": 75,
   "metadata": {},
   "outputs": [],
   "source": [
    "def func(a,b):\n",
    "    return(a+b, a-b, a*b, a//b)"
   ]
  },
  {
   "cell_type": "code",
   "execution_count": 77,
   "metadata": {},
   "outputs": [
    {
     "data": {
      "text/plain": [
       "(13, 7, 30, 3)"
      ]
     },
     "execution_count": 77,
     "metadata": {},
     "output_type": "execute_result"
    }
   ],
   "source": [
    "func(10, 3)"
   ]
  }
 ],
 "metadata": {
  "kernelspec": {
   "display_name": "Python 3",
   "language": "python",
   "name": "python3"
  },
  "language_info": {
   "codemirror_mode": {
    "name": "ipython",
    "version": 3
   },
   "file_extension": ".py",
   "mimetype": "text/x-python",
   "name": "python",
   "nbconvert_exporter": "python",
   "pygments_lexer": "ipython3",
   "version": "3.13.1"
  }
 },
 "nbformat": 4,
 "nbformat_minor": 2
}
