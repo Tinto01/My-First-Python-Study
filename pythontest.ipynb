{
 "cells": [
  {
   "cell_type": "markdown",
   "metadata": {},
   "source": [
    "## 241219 수업 시작!"
   ]
  },
  {
   "cell_type": "markdown",
   "metadata": {},
   "source": [
    "파이썬 기본 문법"
   ]
  },
  {
   "cell_type": "code",
   "execution_count": 3,
   "metadata": {},
   "outputs": [
    {
     "name": "stdout",
     "output_type": "stream",
     "text": [
      "2\n"
     ]
    }
   ],
   "source": [
    "print(1+1)"
   ]
  },
  {
   "cell_type": "code",
   "execution_count": 5,
   "metadata": {},
   "outputs": [
    {
     "name": "stdout",
     "output_type": "stream",
     "text": [
      "Hello World\n"
     ]
    }
   ],
   "source": [
    "print(\"Hello World\")"
   ]
  },
  {
   "cell_type": "code",
   "execution_count": 6,
   "metadata": {},
   "outputs": [
    {
     "ename": "SyntaxError",
     "evalue": "unterminated string literal (detected at line 1) (2728876939.py, line 1)",
     "output_type": "error",
     "traceback": [
      "\u001b[1;36m  Cell \u001b[1;32mIn[6], line 1\u001b[1;36m\u001b[0m\n\u001b[1;33m    print(\"Hello Python!)\u001b[0m\n\u001b[1;37m          ^\u001b[0m\n\u001b[1;31mSyntaxError\u001b[0m\u001b[1;31m:\u001b[0m unterminated string literal (detected at line 1)\n"
     ]
    }
   ],
   "source": [
    "print(\"Hello Python!)"
   ]
  },
  {
   "cell_type": "code",
   "execution_count": 7,
   "metadata": {},
   "outputs": [
    {
     "ename": "NameError",
     "evalue": "name 'Hello' is not defined",
     "output_type": "error",
     "traceback": [
      "\u001b[1;31m---------------------------------------------------------------------------\u001b[0m",
      "\u001b[1;31mNameError\u001b[0m                                 Traceback (most recent call last)",
      "Cell \u001b[1;32mIn[7], line 1\u001b[0m\n\u001b[1;32m----> 1\u001b[0m \u001b[43mHello\u001b[49m, python1\n\u001b[0;32m      2\u001b[0m Hello, python2\n\u001b[0;32m      3\u001b[0m Hello, python3\n",
      "\u001b[1;31mNameError\u001b[0m: name 'Hello' is not defined"
     ]
    }
   ],
   "source": [
    "Hello, python1\n",
    "Hello, python2\n",
    "Hello, python3"
   ]
  },
  {
   "cell_type": "code",
   "execution_count": 8,
   "metadata": {},
   "outputs": [
    {
     "name": "stdout",
     "output_type": "stream",
     "text": [
      "3\n",
      "5\n",
      "7\n"
     ]
    }
   ],
   "source": [
    "print(1+2)\n",
    "print(2+3)\n",
    "print(3+4)"
   ]
  },
  {
   "cell_type": "code",
   "execution_count": 9,
   "metadata": {},
   "outputs": [
    {
     "data": {
      "text/plain": [
       "9"
      ]
     },
     "execution_count": 9,
     "metadata": {},
     "output_type": "execute_result"
    }
   ],
   "source": [
    "1+2\n",
    "2+3\n",
    "3+4\n",
    "4+5"
   ]
  },
  {
   "cell_type": "code",
   "execution_count": 14,
   "metadata": {},
   "outputs": [
    {
     "name": "stdout",
     "output_type": "stream",
     "text": [
      "Hello\n",
      "Python\n",
      "홍길동 나이 = 20 세\n"
     ]
    }
   ],
   "source": [
    "print(\"Hello\")\n",
    "print(\"Python\")\n",
    "print(\"홍길동\", \"나이 =\", 20, \"세\")"
   ]
  },
  {
   "cell_type": "code",
   "execution_count": 17,
   "metadata": {},
   "outputs": [
    {
     "name": "stdout",
     "output_type": "stream",
     "text": [
      "Hello\n",
      "Python\n",
      "Nice      to meet You\n"
     ]
    }
   ],
   "source": [
    "print('Hello'); print('Python')\n",
    "\n",
    "print('Nice\\\n",
    "      to meet You')"
   ]
  },
  {
   "cell_type": "code",
   "execution_count": 21,
   "metadata": {},
   "outputs": [
    {
     "name": "stdout",
     "output_type": "stream",
     "text": [
      "Hi*Python\n"
     ]
    }
   ],
   "source": [
    "print('Hi', 'Python', sep=\"*\")"
   ]
  },
  {
   "cell_type": "code",
   "execution_count": 23,
   "metadata": {},
   "outputs": [
    {
     "name": "stdout",
     "output_type": "stream",
     "text": [
      "Hi Python\n"
     ]
    }
   ],
   "source": [
    "print('Hi', end=' ')\n",
    "print('Python')"
   ]
  },
  {
   "cell_type": "code",
   "execution_count": 24,
   "metadata": {},
   "outputs": [
    {
     "name": "stdout",
     "output_type": "stream",
     "text": [
      "홍길동 나이 = 20 세\n"
     ]
    }
   ],
   "source": [
    "name = '홍길동'\n",
    "age = '20'\n",
    "print(name, '나이 =', age, '세')"
   ]
  },
  {
   "cell_type": "code",
   "execution_count": 25,
   "metadata": {},
   "outputs": [
    {
     "data": {
      "text/plain": [
       "['False',\n",
       " 'None',\n",
       " 'True',\n",
       " 'and',\n",
       " 'as',\n",
       " 'assert',\n",
       " 'async',\n",
       " 'await',\n",
       " 'break',\n",
       " 'class',\n",
       " 'continue',\n",
       " 'def',\n",
       " 'del',\n",
       " 'elif',\n",
       " 'else',\n",
       " 'except',\n",
       " 'finally',\n",
       " 'for',\n",
       " 'from',\n",
       " 'global',\n",
       " 'if',\n",
       " 'import',\n",
       " 'in',\n",
       " 'is',\n",
       " 'lambda',\n",
       " 'nonlocal',\n",
       " 'not',\n",
       " 'or',\n",
       " 'pass',\n",
       " 'raise',\n",
       " 'return',\n",
       " 'try',\n",
       " 'while',\n",
       " 'with',\n",
       " 'yield']"
      ]
     },
     "execution_count": 25,
     "metadata": {},
     "output_type": "execute_result"
    }
   ],
   "source": [
    "import keyword\n",
    "keyword.kwlist"
   ]
  },
  {
   "cell_type": "code",
   "execution_count": 26,
   "metadata": {},
   "outputs": [
    {
     "data": {
      "text/plain": [
       "str"
      ]
     },
     "execution_count": 26,
     "metadata": {},
     "output_type": "execute_result"
    }
   ],
   "source": [
    "type(name)"
   ]
  },
  {
   "cell_type": "code",
   "execution_count": 27,
   "metadata": {},
   "outputs": [
    {
     "data": {
      "text/plain": [
       "False"
      ]
     },
     "execution_count": 27,
     "metadata": {},
     "output_type": "execute_result"
    }
   ],
   "source": [
    "str()\n",
    "int()\n",
    "float()\n",
    "bool()"
   ]
  },
  {
   "cell_type": "code",
   "execution_count": 28,
   "metadata": {},
   "outputs": [
    {
     "data": {
      "text/plain": [
       "False"
      ]
     },
     "execution_count": 28,
     "metadata": {},
     "output_type": "execute_result"
    }
   ],
   "source": [
    "bool(False)"
   ]
  },
  {
   "cell_type": "code",
   "execution_count": 29,
   "metadata": {},
   "outputs": [
    {
     "data": {
      "text/plain": [
       "bool"
      ]
     },
     "execution_count": 29,
     "metadata": {},
     "output_type": "execute_result"
    }
   ],
   "source": [
    "type(False)"
   ]
  },
  {
   "cell_type": "code",
   "execution_count": 30,
   "metadata": {},
   "outputs": [
    {
     "name": "stdout",
     "output_type": "stream",
     "text": [
      "a+b 7\n",
      "a-b -1\n",
      "a*b 12\n",
      "a/b 0.75\n",
      "a%b 3\n",
      "a//b 0\n",
      "a**b 81\n"
     ]
    }
   ],
   "source": [
    "a = 3\n",
    "b = 4\n",
    "\n",
    "print('a+b', a+b)\n",
    "print('a-b', a-b)\n",
    "print('a*b', a*b)\n",
    "print('a/b', a/b)\n",
    "print('a%b', a%b)\n",
    "print('a//b', a//b)\n",
    "print('a**b', a**b) "
   ]
  },
  {
   "cell_type": "code",
   "execution_count": 41,
   "metadata": {},
   "outputs": [
    {
     "name": "stdout",
     "output_type": "stream",
     "text": [
      "1 2 3 4\n"
     ]
    }
   ],
   "source": [
    "n=1234\n",
    "\n",
    "# 각자리의 숫자를 추출해서 출력하고 싶은 경우\n",
    "d1000 = n//1000\n",
    "d100 = (n//100)%10\n",
    "d10 = (n//10)%10\n",
    "d1 = (n//1)%10\n",
    "\n",
    "print(d1000, d100, d10, d1)"
   ]
  },
  {
   "cell_type": "code",
   "execution_count": null,
   "metadata": {},
   "outputs": [],
   "source": []
  },
  {
   "cell_type": "code",
   "execution_count": 42,
   "metadata": {},
   "outputs": [
    {
     "name": "stdout",
     "output_type": "stream",
     "text": [
      "12345600\n"
     ]
    }
   ],
   "source": [
    "pay = 12345678\n",
    "\n",
    "print((pay//100)*100)"
   ]
  },
  {
   "cell_type": "code",
   "execution_count": 44,
   "metadata": {},
   "outputs": [
    {
     "name": "stdout",
     "output_type": "stream",
     "text": [
      "False True True False True False\n"
     ]
    }
   ],
   "source": [
    "a = 1\n",
    "b = 5\n",
    "\n",
    "print(a==b, a!=b, a<b, a>b, a<=b, a>=b)"
   ]
  },
  {
   "cell_type": "code",
   "execution_count": 45,
   "metadata": {},
   "outputs": [
    {
     "name": "stdout",
     "output_type": "stream",
     "text": [
      "True\n",
      "True\n",
      "False\n"
     ]
    }
   ],
   "source": [
    "print((3<5) and (3>0))\n",
    "print((4<7) or (5>8))\n",
    "print(not(5<9))"
   ]
  },
  {
   "cell_type": "code",
   "execution_count": 47,
   "metadata": {},
   "outputs": [
    {
     "data": {
      "text/plain": [
       "'PythonHello'"
      ]
     },
     "execution_count": 47,
     "metadata": {},
     "output_type": "execute_result"
    }
   ],
   "source": [
    "head = \"Python\"\n",
    "tail = \"Hello\"\n",
    "\n",
    "head + tail"
   ]
  },
  {
   "cell_type": "code",
   "execution_count": 48,
   "metadata": {},
   "outputs": [
    {
     "name": "stdout",
     "output_type": "stream",
     "text": [
      "'낮말'은 새가 듣고 '밤말'은 쥐가 듣는다.\n"
     ]
    }
   ],
   "source": [
    "print(\"'낮말'은 새가 듣고 '밤말'은 쥐가 듣는다.\")"
   ]
  },
  {
   "cell_type": "code",
   "execution_count": 50,
   "metadata": {},
   "outputs": [
    {
     "name": "stdout",
     "output_type": "stream",
     "text": [
      "'낮말'은 새가 듣는다.\n"
     ]
    }
   ],
   "source": [
    "print(\"\\'낮말\\'은 새가 듣는다.\")"
   ]
  },
  {
   "cell_type": "code",
   "execution_count": 60,
   "metadata": {},
   "outputs": [
    {
     "data": {
      "text/plain": [
       "'too'"
      ]
     },
     "execution_count": 60,
     "metadata": {},
     "output_type": "execute_result"
    }
   ],
   "source": [
    "samplestring = \"Life is too short\"\n",
    "len(samplestring)\n",
    "samplestring[8:11]"
   ]
  },
  {
   "cell_type": "code",
   "execution_count": 67,
   "metadata": {},
   "outputs": [
    {
     "name": "stdout",
     "output_type": "stream",
     "text": [
      "Lite\n"
     ]
    }
   ],
   "source": [
    "sam_str = \"Life is too short, You need Python\"\n",
    "print(sam_str[0:2]+sam_str[8]+sam_str[24])"
   ]
  },
  {
   "cell_type": "code",
   "execution_count": 68,
   "metadata": {},
   "outputs": [
    {
     "data": {
      "text/plain": [
       "'hello'"
      ]
     },
     "execution_count": 68,
     "metadata": {},
     "output_type": "execute_result"
    }
   ],
   "source": [
    "input()"
   ]
  },
  {
   "cell_type": "code",
   "execution_count": 69,
   "metadata": {},
   "outputs": [
    {
     "name": "stdout",
     "output_type": "stream",
     "text": [
      "당신의 이름은 김진솔입니다.\n"
     ]
    }
   ],
   "source": [
    "name = input()\n",
    "\n",
    "print('당신의 이름은 '+ name + '입니다.')"
   ]
  },
  {
   "cell_type": "code",
   "execution_count": 72,
   "metadata": {},
   "outputs": [
    {
     "name": "stdout",
     "output_type": "stream",
     "text": [
      "5\n"
     ]
    }
   ],
   "source": [
    "num1 = int(input())\n",
    "num2 = int(input())\n",
    "\n",
    "print(num1+num2)"
   ]
  },
  {
   "cell_type": "code",
   "execution_count": 76,
   "metadata": {},
   "outputs": [
    {
     "name": "stdout",
     "output_type": "stream",
     "text": [
      "25.0\n"
     ]
    }
   ],
   "source": [
    "a = int(input())\n",
    "b = int(input())\n",
    "\n",
    "print((a*b)/2)"
   ]
  },
  {
   "cell_type": "code",
   "execution_count": 79,
   "metadata": {},
   "outputs": [
    {
     "name": "stdout",
     "output_type": "stream",
     "text": [
      "xy\n"
     ]
    }
   ],
   "source": [
    "x = int(2000)\n",
    "y = int(3000)\n",
    "z = int(5000)\n",
    "\n",
    "print(input()+input())"
   ]
  },
  {
   "cell_type": "code",
   "execution_count": 80,
   "metadata": {},
   "outputs": [
    {
     "name": "stdout",
     "output_type": "stream",
     "text": [
      "메뉴판:\n",
      "햄버거: 5000원\n",
      "피자: 8000원\n",
      "파스타: 12000원\n",
      "\n",
      "피자의 가격은 8000원입니다.\n"
     ]
    }
   ],
   "source": [
    "# 메뉴와 가격 정의\n",
    "menu = {\n",
    "    \"햄버거\": 5000,\n",
    "    \"피자\": 8000,\n",
    "    \"파스타\": 12000\n",
    "}\n",
    "\n",
    "# 메뉴판 출력\n",
    "print(\"메뉴판:\")\n",
    "for item, price in menu.items():\n",
    "    print(f\"{item}: {price}원\")\n",
    "\n",
    "# 손님이 메뉴 선택\n",
    "choice = input(\"\\n원하시는 메뉴를 골라주세요: \")\n",
    "\n",
    "# 가격 출력\n",
    "if choice in menu:\n",
    "    print(f\"\\n{choice}의 가격은 {menu[choice]}원입니다.\")\n",
    "else:\n",
    "    print(\"\\n죄송합니다. 선택하신 메뉴는 없습니다.\")"
   ]
  },
  {
   "cell_type": "code",
   "execution_count": 82,
   "metadata": {},
   "outputs": [
    {
     "name": "stdout",
     "output_type": "stream",
     "text": [
      "5 + 10 = 15\n"
     ]
    }
   ],
   "source": [
    "num1 = int(input('정수1: '))\n",
    "num2 = int(input('정수2: '))\n",
    "\n",
    "print(num1, '+', num2, '=', num1+num2)"
   ]
  },
  {
   "cell_type": "code",
   "execution_count": 86,
   "metadata": {},
   "outputs": [
    {
     "name": "stdout",
     "output_type": "stream",
     "text": [
      "10.50 * 30.220 = 317.31\n"
     ]
    }
   ],
   "source": [
    "a = float(input(\"첫 번째 값 입력: \"))\n",
    "b = float(input(\"두 번째 값 입력: \"))\n",
    "\n",
    "print(f'{a:.2f} * {b:.3f} = {a*b:.2f}')"
   ]
  },
  {
   "cell_type": "code",
   "execution_count": 88,
   "metadata": {},
   "outputs": [
    {
     "name": "stdout",
     "output_type": "stream",
     "text": [
      "반지름 : 150.7cm\n",
      "원의 둘레는 : 946.4cm\n",
      "원의 둘레 : 71,309.0cm2\n"
     ]
    }
   ],
   "source": [
    "r = float(input('반지름 입력(cm): '))\n",
    "\n",
    "print(f\"반지름 : {r:.1f}cm\")\n",
    "print(f\"원의 둘레는 : {r*2*3.14:.1f}cm\")\n",
    "print(f\"원의 둘레 : {r*r*3.14:,.1f}cm2\")"
   ]
  },
  {
   "cell_type": "code",
   "execution_count": 93,
   "metadata": {},
   "outputs": [
    {
     "name": "stdout",
     "output_type": "stream",
     "text": [
      "맛난거 먹고\n",
      "영화도 먹고\n"
     ]
    }
   ],
   "source": [
    "money = True\n",
    "\n",
    "if money:\n",
    "    print('맛난거 먹고')\n",
    "    print('영화도 먹고')"
   ]
  },
  {
   "cell_type": "code",
   "execution_count": 94,
   "metadata": {},
   "outputs": [
    {
     "name": "stdout",
     "output_type": "stream",
     "text": [
      "True\n",
      "this is test.\n"
     ]
    }
   ],
   "source": [
    "result = 10 > 4\n",
    "print(result)\n",
    "if result : \n",
    "    print (\"this is test.\")"
   ]
  },
  {
   "cell_type": "code",
   "execution_count": 98,
   "metadata": {},
   "outputs": [
    {
     "name": "stdout",
     "output_type": "stream",
     "text": [
      "친구한테 얻어먹기\n"
     ]
    }
   ],
   "source": [
    "money = 10-10\n",
    "\n",
    "if money:\n",
    "    print('맛난거 먹고')\n",
    "    print('영화도 먹고')\n",
    "else : \n",
    "    print('친구한테 얻어먹기')"
   ]
  },
  {
   "cell_type": "code",
   "execution_count": 109,
   "metadata": {},
   "outputs": [
    {
     "name": "stdout",
     "output_type": "stream",
     "text": [
      "홀수입니다.\n"
     ]
    }
   ],
   "source": [
    "num = int(input('숫자를 입력하세요: '))\n",
    "\n",
    "if num%2==1 :\n",
    "    print('홀수입니다.')\n",
    "else : \n",
    "    print('짝수입니다.') "
   ]
  },
  {
   "cell_type": "code",
   "execution_count": 110,
   "metadata": {},
   "outputs": [
    {
     "name": "stdout",
     "output_type": "stream",
     "text": [
      "B\n"
     ]
    }
   ],
   "source": [
    "score = int(input('점수를 입력하세요: '))\n",
    "\n",
    "if score >= 90 :\n",
    "    print('A')\n",
    "elif score >= 80 :\n",
    "    print('B')\n",
    "elif score >= 70 :\n",
    "    print('C')\n",
    "elif score >= 60 : \n",
    "    print('D')\n",
    "else :\n",
    "    print('F')"
   ]
  },
  {
   "cell_type": "code",
   "execution_count": 112,
   "metadata": {},
   "outputs": [
    {
     "name": "stdout",
     "output_type": "stream",
     "text": [
      "모든 요일 구매 가능\n"
     ]
    }
   ],
   "source": [
    "age = int(input('나이를 입력하세요: '))\n",
    "birth = int(input('생년월일을 입력하세요.: '))\n",
    "\n",
    "if age >= 65 :\n",
    "    print('모든 요일 구매 가능')\n",
    "elif birth%5==1 :\n",
    "    print('월요일')\n",
    "elif birth%5==2 :\n",
    "    print('화요일')\n",
    "elif birth%5==3 :\n",
    "    print('수요일')\n",
    "elif birth%5==4 :\n",
    "    print('목요일')\n",
    "else :\n",
    "    print('금요일')"
   ]
  },
  {
   "cell_type": "code",
   "execution_count": 121,
   "metadata": {},
   "outputs": [
    {
     "name": "stdout",
     "output_type": "stream",
     "text": [
      "비만\n"
     ]
    }
   ],
   "source": [
    "height = int(input('키를 입력하세요 : '))/100\n",
    "weight = int(input('몸무게를 입력해주세요. : '))\n",
    "\n",
    "if weight/(height*height) >= 25 :\n",
    "    print('비만')\n",
    "elif weight/(height*height) >= 23 :\n",
    "    print('과체중')\n",
    "elif  weight/(height*height) >= 18.5 :\n",
    "    print('정상체중')\n",
    "else :\n",
    "    print('저체중')\n"
   ]
  },
  {
   "cell_type": "code",
   "execution_count": 128,
   "metadata": {},
   "outputs": [
    {
     "name": "stdout",
     "output_type": "stream",
     "text": [
      "짝수 차량 운행날입니다.\n"
     ]
    }
   ],
   "source": [
    "car_num = input('차량번호를 입력해 주세요. ')\n",
    "day = int(input('오늘이 몇 일인가요? : '))\n",
    "\n",
    "if len(car_num)!=4 or day >= 32 :\n",
    "    print('입력값 오류입니다.')\n",
    "elif int(car_num)%2==1 and day%2==1 :\n",
    "    print('홀수 차량 운행날입니다.')\n",
    "else :\n",
    "    print('짝수 차량 운행날입니다.')"
   ]
  }
 ],
 "metadata": {
  "kernelspec": {
   "display_name": "Python 3",
   "language": "python",
   "name": "python3"
  },
  "language_info": {
   "codemirror_mode": {
    "name": "ipython",
    "version": 3
   },
   "file_extension": ".py",
   "mimetype": "text/x-python",
   "name": "python",
   "nbconvert_exporter": "python",
   "pygments_lexer": "ipython3",
   "version": "3.13.1"
  }
 },
 "nbformat": 4,
 "nbformat_minor": 2
}
