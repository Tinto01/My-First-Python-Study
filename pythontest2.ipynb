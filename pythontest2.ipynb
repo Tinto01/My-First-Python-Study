{
 "cells": [
  {
   "cell_type": "markdown",
   "metadata": {},
   "source": [
    "## 241220 수업"
   ]
  },
  {
   "cell_type": "code",
   "execution_count": 48,
   "metadata": {},
   "outputs": [
    {
     "name": "stdout",
     "output_type": "stream",
     "text": [
      "안녕하세요.진솔님\n",
      "오늘은 9 번째 방문일입니다.\n",
      "오늘로 9회 방문하셨어요.\n"
     ]
    }
   ],
   "source": [
    "name = input('이름을 입력하세요: ')\n",
    "visit = int(input('방문 횟수를 입력하세요: '))\n",
    "\n",
    "print('안녕하세요.'+name+'님')\n",
    "print('오늘은', visit+1, '번째 방문일입니다.')\n",
    "print(f'오늘로 {int(visit)+1}회 방문하셨어요.')"
   ]
  },
  {
   "cell_type": "code",
   "execution_count": 42,
   "metadata": {},
   "outputs": [
    {
     "name": "stdout",
     "output_type": "stream",
     "text": [
      "991225\n",
      "1\n",
      "1234567\n"
     ]
    }
   ],
   "source": [
    "jumin = str('991225-1234567')\n",
    "\n",
    "print(jumin[0:6])\n",
    "print(jumin[-7])\n",
    "print(jumin[-7:])\n"
   ]
  },
  {
   "cell_type": "code",
   "execution_count": 43,
   "metadata": {},
   "outputs": [
    {
     "name": "stdout",
     "output_type": "stream",
     "text": [
      "역삼역 도어읽 로꾸거 역삼역 도어읽 로으앞 .다니입역삼역 ,역삼역 은역번이\n"
     ]
    }
   ],
   "source": [
    "sen = str(\"이번역은 역삼역, 역삼역입니다. 앞으로 읽어도 역삼역 거꾸로 읽어도 역삼역\")\n",
    "\n",
    "print(sen[::-1])"
   ]
  },
  {
   "cell_type": "code",
   "execution_count": 44,
   "metadata": {},
   "outputs": [
    {
     "name": "stdout",
     "output_type": "stream",
     "text": [
      "아이디 또는 비밀번호가 다릅니다.\n",
      "로그인에 실패하였습니다.\n"
     ]
    }
   ],
   "source": [
    "user_id = input('아이디를 입력하세요 : ')\n",
    "user_pw = input('비밀번호를 입력하세요: ')\n",
    "\n",
    "if user_id == 'admin' and user_pw == '1234' :\n",
    "    print('로그인 성공하였습니다.')\n",
    "elif user_id != 'admin' or user_pw != '1234' :\n",
    "    print('아이디 또는 비밀번호가 다릅니다.')\n",
    "    print('로그인에 실패하였습니다.')"
   ]
  },
  {
   "cell_type": "code",
   "execution_count": 45,
   "metadata": {},
   "outputs": [
    {
     "name": "stdout",
     "output_type": "stream",
     "text": [
      "1번째 출력: Hello Python!\n",
      "2번째 출력: Hello Python!\n",
      "3번째 출력: Hello Python!\n",
      "4번째 출력: Hello Python!\n",
      "5번째 출력: Hello Python!\n",
      "반복문 종료\n"
     ]
    }
   ],
   "source": [
    "i = 0\n",
    "while i < 5:\n",
    "    i = i + 1\n",
    "    print(f'{i}번째 출력: Hello Python!')\n",
    "print('반복문 종료')"
   ]
  },
  {
   "cell_type": "code",
   "execution_count": 52,
   "metadata": {},
   "outputs": [
    {
     "name": "stdout",
     "output_type": "stream",
     "text": [
      "1 2 3 4 5 6 7 8 9 10 11 12 13 14 15 16 17 18 19 20 반복문 종료\n"
     ]
    }
   ],
   "source": [
    "i = 0\n",
    "while i < 20:\n",
    "    i = i + 1\n",
    "    print(f'{i}',end=\" \")\n",
    "print('반복문 종료')"
   ]
  },
  {
   "cell_type": "code",
   "execution_count": 65,
   "metadata": {},
   "outputs": [
    {
     "name": "stdout",
     "output_type": "stream",
     "text": [
      "1부터 1000까지의 합은 500500입니다.\n"
     ]
    }
   ],
   "source": [
    "endvalue = 1000\n",
    "\n",
    "hap = 0\n",
    "i = 0\n",
    "while i < endvalue:\n",
    "    i = i + 1\n",
    "    hap = hap + i\n",
    "print(f'1부터 {endvalue}까지의 합은 {hap}입니다.')"
   ]
  },
  {
   "cell_type": "code",
   "execution_count": 71,
   "metadata": {},
   "outputs": [
    {
     "name": "stdout",
     "output_type": "stream",
     "text": [
      "2 2\n",
      "4 6\n",
      "6 12\n",
      "8 20\n",
      "10 30\n",
      "1부터 10까지의 짝수의 합은 30입니다.\n"
     ]
    }
   ],
   "source": [
    "endvalue = 10\n",
    "\n",
    "hap = 0\n",
    "i = 0\n",
    "while i < endvalue:\n",
    "    i = i + 2\n",
    "    hap = hap + i\n",
    "    print(i, hap)\n",
    "print(f'1부터 {endvalue}까지의 짝수의 합은 {hap}입니다.')"
   ]
  },
  {
   "cell_type": "code",
   "execution_count": null,
   "metadata": {},
   "outputs": [
    {
     "name": "stdout",
     "output_type": "stream",
     "text": [
      "1부터 20까지의 짝수의 합은 210입니다.\n"
     ]
    }
   ],
   "source": [
    "endvalue = int(input('합을 원하시는 숫자를 입력해주세요: '))\n",
    "\n",
    "hap = 0\n",
    "i = 0\n",
    "while i < endvalue:\n",
    "    i = i + 1\n",
    "    hap = hap + i\n",
    "print(f'1부터 {endvalue}까지의 합은 {hap}입니다.')"
   ]
  },
  {
   "cell_type": "code",
   "execution_count": 75,
   "metadata": {},
   "outputs": [
    {
     "name": "stdout",
     "output_type": "stream",
     "text": [
      "1부터 10까지의 곱은 3628800입니다.\n"
     ]
    }
   ],
   "source": [
    "endvalue = int(input('합을 원하시는 숫자를 입력해주세요: '))\n",
    "\n",
    "gop = 1\n",
    "i = 1\n",
    "while i < endvalue:\n",
    "    i = i + 1\n",
    "    gop = gop*i\n",
    "print(f'1부터 {endvalue}까지의 곱은 {gop}입니다.')"
   ]
  },
  {
   "cell_type": "code",
   "execution_count": 76,
   "metadata": {},
   "outputs": [
    {
     "name": "stdout",
     "output_type": "stream",
     "text": [
      "\n",
      "1. ADD\n",
      "2. Del\n",
      "3. Quit\n",
      "\n",
      "\n",
      "1. ADD\n",
      "2. Del\n",
      "3. Quit\n",
      "\n",
      "\n",
      "1. ADD\n",
      "2. Del\n",
      "3. Quit\n",
      "\n"
     ]
    }
   ],
   "source": [
    "prompt = \"\"\"\n",
    "1. ADD\n",
    "2. Del\n",
    "3. Quit\n",
    "\"\"\"\n",
    "\n",
    "input_num = 0\n",
    "\n",
    "while input_num != 3:\n",
    "    print(prompt)\n",
    "    input_num = int(input())"
   ]
  },
  {
   "cell_type": "code",
   "execution_count": 77,
   "metadata": {},
   "outputs": [
    {
     "name": "stdout",
     "output_type": "stream",
     "text": [
      "Hello python\n",
      "Hello python\n",
      "Hello python\n",
      "Hello python\n",
      "Hello python\n"
     ]
    }
   ],
   "source": [
    "for i in 'hello':\n",
    "    print('Hello python')"
   ]
  },
  {
   "cell_type": "code",
   "execution_count": 83,
   "metadata": {},
   "outputs": [
    {
     "name": "stdout",
     "output_type": "stream",
     "text": [
      "11\n",
      "10\n",
      "9\n",
      "8\n",
      "7\n",
      "6\n",
      "5\n",
      "4\n",
      "3\n",
      "2\n",
      "1\n"
     ]
    }
   ],
   "source": [
    "for i in range(11, 0, -1):\n",
    "    print(i)"
   ]
  },
  {
   "cell_type": "code",
   "execution_count": 85,
   "metadata": {},
   "outputs": [
    {
     "name": "stdout",
     "output_type": "stream",
     "text": [
      "0\n",
      "2\n",
      "4\n",
      "6\n"
     ]
    }
   ],
   "source": [
    "for i in range(0, 8, 2):\n",
    "    print(i)"
   ]
  },
  {
   "cell_type": "code",
   "execution_count": 86,
   "metadata": {},
   "outputs": [
    {
     "name": "stdout",
     "output_type": "stream",
     "text": [
      "2\n",
      "3\n",
      "4\n",
      "5\n",
      "6\n",
      "7\n"
     ]
    }
   ],
   "source": [
    "for i in range(2, 8):\n",
    "    print(i)"
   ]
  },
  {
   "cell_type": "code",
   "execution_count": 92,
   "metadata": {},
   "outputs": [
    {
     "name": "stdout",
     "output_type": "stream",
     "text": [
      "입력하신 정숫값 10까지의 합은 55입니다.\n"
     ]
    }
   ],
   "source": [
    "endvalue = int(input('합을 원하는 정수 입력: '))\n",
    "\n",
    "hap = 0\n",
    "i = 0\n",
    "for i in range(1, endvalue+1):\n",
    "    hap = hap + i\n",
    "print(f'입력하신 정숫값 {endvalue}까지의 합은 {hap}입니다.')"
   ]
  },
  {
   "cell_type": "code",
   "execution_count": 96,
   "metadata": {},
   "outputs": [
    {
     "name": "stdout",
     "output_type": "stream",
     "text": [
      "2*1=2\n",
      "2*2=4\n",
      "2*3=6\n",
      "2*4=8\n",
      "2*5=10\n",
      "2*6=12\n",
      "2*7=14\n",
      "2*8=16\n",
      "2*9=18\n",
      "2단=================\n"
     ]
    }
   ],
   "source": [
    "dan = int(2)\n",
    "\n",
    "i = 0\n",
    "for i in range(1,10):\n",
    "    print(f'{dan}*{i}={dan*i}')\n",
    "print('2단=================')"
   ]
  },
  {
   "cell_type": "code",
   "execution_count": 116,
   "metadata": {},
   "outputs": [
    {
     "name": "stdout",
     "output_type": "stream",
     "text": [
      "2*1=2\n",
      "2*2=4\n",
      "2*3=6\n",
      "2*4=8\n",
      "2*5=10\n",
      "2*6=12\n",
      "2*7=14\n",
      "2*8=16\n",
      "2*9=18\n",
      "2단======================\n"
     ]
    }
   ],
   "source": [
    "dan = int(2)\n",
    "\n",
    "i = 0\n",
    "while i < 9 :\n",
    "    i = i + 1\n",
    "    print(f'{dan}*{i}={dan*i}')\n",
    "print('2단======================')"
   ]
  },
  {
   "cell_type": "code",
   "execution_count": 123,
   "metadata": {},
   "outputs": [
    {
     "name": "stdout",
     "output_type": "stream",
     "text": [
      "2*1= 2 2*2= 4 2*3= 6 2*4= 8 2*5=10 2*6=12 2*7=14 2*8=16 2*9=18 3*1= 3 3*2= 6 3*3= 9 3*4=12 3*5=15 3*6=18 3*7=21 3*8=24 3*9=27 4*1= 4 4*2= 8 4*3=12 4*4=16 4*5=20 4*6=24 4*7=28 4*8=32 4*9=36 5*1= 5 5*2=10 5*3=15 5*4=20 5*5=25 5*6=30 5*7=35 5*8=40 5*9=45 6*1= 6 6*2=12 6*3=18 6*4=24 6*5=30 6*6=36 6*7=42 6*8=48 6*9=54 7*1= 7 7*2=14 7*3=21 7*4=28 7*5=35 7*6=42 7*7=49 7*8=56 7*9=63 8*1= 8 8*2=16 8*3=24 8*4=32 8*5=40 8*6=48 8*7=56 8*8=64 8*9=72 9*1= 9 9*2=18 9*3=27 9*4=36 9*5=45 9*6=54 9*7=63 9*8=72 9*9=81 "
     ]
    }
   ],
   "source": [
    "dan = 1\n",
    "i = 0\n",
    "for dan in range(2, 10):\n",
    "    for i in range(1,10):\n",
    "        print(f'{dan}*{i}={dan*i:2}', end = \" \")"
   ]
  },
  {
   "cell_type": "code",
   "execution_count": 133,
   "metadata": {},
   "outputs": [
    {
     "name": "stdout",
     "output_type": "stream",
     "text": [
      "정수:6, 합:21\n"
     ]
    }
   ],
   "source": [
    "hap = 0\n",
    "for i in range(1,11):\n",
    "    hap = hap + i\n",
    "    if hap >= 20:\n",
    "        print(f'정수:{i}, 합:{hap}')\n",
    "        break"
   ]
  },
  {
   "cell_type": "code",
   "execution_count": 126,
   "metadata": {},
   "outputs": [
    {
     "name": "stdout",
     "output_type": "stream",
     "text": [
      "1 3 5 7 9 \n",
      " 25\n"
     ]
    }
   ],
   "source": [
    "hap = 0\n",
    "for i in range(1, 11):\n",
    "    if i%2 == 0:\n",
    "        continue\n",
    "    print(i, end=\" \")\n",
    "    hap=hap+i\n",
    "\n",
    "print('\\n', hap)"
   ]
  },
  {
   "cell_type": "code",
   "execution_count": 132,
   "metadata": {},
   "outputs": [
    {
     "name": "stdout",
     "output_type": "stream",
     "text": [
      "1 3 5 7 9 \n",
      " 25\n"
     ]
    }
   ],
   "source": [
    "hap = 0\n",
    "for i in range(1, 11):\n",
    "    if i%2 == 0:\n",
    "        continue\n",
    "    print(i, end=\" \")\n",
    "    hap=hap+i\n",
    "\n",
    "print('\\n', hap)"
   ]
  },
  {
   "cell_type": "code",
   "execution_count": 6,
   "metadata": {},
   "outputs": [
    {
     "name": "stdout",
     "output_type": "stream",
     "text": [
      "30\n",
      "너무 작습니다.\n",
      "너무 큽니다.\n",
      "정답입니다.\n"
     ]
    }
   ],
   "source": [
    "import random\n",
    "answer=random.randint(1,100)\n",
    "print(answer)\n",
    "\n",
    "while True :\n",
    "    i = int(input('수를 맞혀보세요.:'))\n",
    "    if i == answer :\n",
    "        print('정답입니다.')\n",
    "        break\n",
    "    elif i > answer :\n",
    "        print('너무 큽니다.')\n",
    "        continue\n",
    "    else :\n",
    "        print('너무 작습니다.')\n",
    "        continue"
   ]
  },
  {
   "cell_type": "code",
   "execution_count": 11,
   "metadata": {},
   "outputs": [
    {
     "name": "stdout",
     "output_type": "stream",
     "text": [
      "1 2 4 7 8 11 13 14 16 17 19 "
     ]
    }
   ],
   "source": [
    "x = 0\n",
    "\n",
    "while True:\n",
    "    x = x + 1\n",
    "    if x > 20 :\n",
    "        break\n",
    "    if x%3 == 0 or x%5 == 0 :\n",
    "        # 3의 배수와 5의 배수를 빼고 출력\n",
    "        continue\n",
    "    print(x, end= \" \")\n"
   ]
  },
  {
   "cell_type": "code",
   "execution_count": 28,
   "metadata": {},
   "outputs": [
    {
     "name": "stdout",
     "output_type": "stream",
     "text": [
      "*\n",
      "**\n",
      "***\n",
      "****\n",
      "*****\n",
      "******\n",
      "*******\n",
      "********\n",
      "*********\n",
      "**********\n",
      "***********\n",
      "************\n",
      "*************\n",
      "**************\n",
      "***************\n",
      "****************\n",
      "*****************\n",
      "******************\n"
     ]
    }
   ],
   "source": [
    "tree = ''\n",
    "\n",
    "while True :\n",
    "    tree = tree+'*'\n",
    "    if tree > '******************' :\n",
    "        break\n",
    "    print(tree)"
   ]
  },
  {
   "cell_type": "code",
   "execution_count": 30,
   "metadata": {},
   "outputs": [
    {
     "name": "stdout",
     "output_type": "stream",
     "text": [
      "*\n",
      "***\n",
      "*****\n",
      "*******\n",
      "*********\n",
      "***********\n",
      "*************\n",
      "***************\n",
      "*****************\n",
      "*******************\n"
     ]
    }
   ],
   "source": [
    "for i in range (1, 11):\n",
    "    print('*'*(2*i-1))"
   ]
  },
  {
   "cell_type": "code",
   "execution_count": 2,
   "metadata": {},
   "outputs": [
    {
     "name": "stdout",
     "output_type": "stream",
     "text": [
      "<class 'list'>\n",
      "[1, 2, 3, 5, 6, 7] ['apple', 'banana', 'lemon', 'orange']\n"
     ]
    },
    {
     "data": {
      "text/plain": [
       "'hi'"
      ]
     },
     "execution_count": 2,
     "metadata": {},
     "output_type": "execute_result"
    }
   ],
   "source": [
    "a=[1, 2, 3, 5, 6, 7]\n",
    "b=['apple', 'banana', 'lemon', 'orange']\n",
    "c=[1, 'hello', [2, 'hi']]\n",
    "\n",
    "print(type(a))\n",
    "print(a, b)\n",
    "b[-1]\n",
    "c[2][1]\n",
    "c[-1][-1]"
   ]
  },
  {
   "cell_type": "code",
   "execution_count": 8,
   "metadata": {},
   "outputs": [
    {
     "data": {
      "text/plain": [
       "'hello'"
      ]
     },
     "execution_count": 8,
     "metadata": {},
     "output_type": "execute_result"
    }
   ],
   "source": [
    "c=[1, 'hello', [2, 'hi']]\n",
    "c[1]"
   ]
  },
  {
   "cell_type": "code",
   "execution_count": 14,
   "metadata": {},
   "outputs": [
    {
     "data": {
      "text/plain": [
       "['a', 'b']"
      ]
     },
     "execution_count": 14,
     "metadata": {},
     "output_type": "execute_result"
    }
   ],
   "source": [
    "a=[1, 2, 3, ['a', 'b', 'c'], 4, 5]\n",
    "\n",
    "a[3][0:2]"
   ]
  },
  {
   "cell_type": "code",
   "execution_count": 19,
   "metadata": {},
   "outputs": [],
   "source": [
    "a = [10, 20, 30, 40, 50]"
   ]
  },
  {
   "cell_type": "code",
   "execution_count": 20,
   "metadata": {},
   "outputs": [
    {
     "name": "stdout",
     "output_type": "stream",
     "text": [
      "[10, 20, 30, 40, 50]\n",
      "[10, 100, 100, 40, 50]\n"
     ]
    }
   ],
   "source": [
    "print(a)\n",
    "\n",
    "a[1:3] = [100, 100]\n",
    "\n",
    "print(a)"
   ]
  },
  {
   "cell_type": "code",
   "execution_count": 23,
   "metadata": {},
   "outputs": [],
   "source": [
    "fruits = ['apple', 'banana']"
   ]
  },
  {
   "cell_type": "code",
   "execution_count": 25,
   "metadata": {},
   "outputs": [
    {
     "name": "stdout",
     "output_type": "stream",
     "text": [
      "['apple', 'banana', 'lemon']\n"
     ]
    }
   ],
   "source": [
    "fruits.append('lemon')\n",
    "print(fruits)"
   ]
  },
  {
   "cell_type": "code",
   "execution_count": 27,
   "metadata": {},
   "outputs": [
    {
     "name": "stdout",
     "output_type": "stream",
     "text": [
      "['apple', 'cherry', 'cherry', 'banana', 'lemon']\n"
     ]
    }
   ],
   "source": [
    "fruits.insert(1, 'cherry')\n",
    "print(fruits)"
   ]
  },
  {
   "cell_type": "code",
   "execution_count": 28,
   "metadata": {},
   "outputs": [
    {
     "name": "stdout",
     "output_type": "stream",
     "text": [
      "['apple', 'banana', 'cherry', 'cherry', 'lemon']\n"
     ]
    }
   ],
   "source": [
    "fruits.sort()\n",
    "print(fruits)"
   ]
  },
  {
   "cell_type": "code",
   "execution_count": 29,
   "metadata": {},
   "outputs": [
    {
     "name": "stdout",
     "output_type": "stream",
     "text": [
      "['apple', 'cherry', 'cherry', 'lemon']\n"
     ]
    }
   ],
   "source": [
    "fruits.remove('banana')\n",
    "print(fruits)"
   ]
  },
  {
   "cell_type": "code",
   "execution_count": 30,
   "metadata": {},
   "outputs": [
    {
     "name": "stdout",
     "output_type": "stream",
     "text": [
      "['apple', 'cherry', 'cherry']\n"
     ]
    }
   ],
   "source": [
    "fruits.pop(-1)\n",
    "print(fruits)"
   ]
  },
  {
   "cell_type": "code",
   "execution_count": 31,
   "metadata": {},
   "outputs": [],
   "source": [
    "score = [15, 95, 22, 73, 55, 100]"
   ]
  },
  {
   "cell_type": "code",
   "execution_count": 36,
   "metadata": {},
   "outputs": [
    {
     "name": "stdout",
     "output_type": "stream",
     "text": [
      "[100, 95, 73, 55, 22, 15]\n"
     ]
    }
   ],
   "source": [
    "score.sort(reverse=True)\n",
    "print(score)"
   ]
  },
  {
   "cell_type": "code",
   "execution_count": 37,
   "metadata": {},
   "outputs": [
    {
     "name": "stdout",
     "output_type": "stream",
     "text": [
      "[15, 22, 55, 73, 95, 100]\n"
     ]
    }
   ],
   "source": [
    "score.reverse()\n",
    "print(score)"
   ]
  },
  {
   "cell_type": "code",
   "execution_count": 38,
   "metadata": {},
   "outputs": [
    {
     "data": {
      "text/plain": [
       "6"
      ]
     },
     "execution_count": 38,
     "metadata": {},
     "output_type": "execute_result"
    }
   ],
   "source": [
    "len(score)"
   ]
  },
  {
   "cell_type": "code",
   "execution_count": 43,
   "metadata": {},
   "outputs": [
    {
     "data": {
      "text/plain": [
       "415"
      ]
     },
     "execution_count": 43,
     "metadata": {},
     "output_type": "execute_result"
    }
   ],
   "source": [
    "score = [100, 50, 30, 50, 30, 55, 100]\n",
    "score.count(50)\n",
    "sum(score)"
   ]
  },
  {
   "cell_type": "code",
   "execution_count": 44,
   "metadata": {},
   "outputs": [],
   "source": [
    "import statistics"
   ]
  },
  {
   "cell_type": "code",
   "execution_count": 45,
   "metadata": {},
   "outputs": [
    {
     "data": {
      "text/plain": [
       "59.285714285714285"
      ]
     },
     "execution_count": 45,
     "metadata": {},
     "output_type": "execute_result"
    }
   ],
   "source": [
    "statistics.mean(score)"
   ]
  },
  {
   "cell_type": "code",
   "execution_count": 46,
   "metadata": {},
   "outputs": [
    {
     "name": "stdout",
     "output_type": "stream",
     "text": [
      "59.285714285714285\n"
     ]
    }
   ],
   "source": [
    "print(sum(score)/len(score))"
   ]
  },
  {
   "cell_type": "code",
   "execution_count": 50,
   "metadata": {},
   "outputs": [
    {
     "name": "stdout",
     "output_type": "stream",
     "text": [
      "1번 학생은 합격입니다.\n",
      "2번 학생은 불합격입니다.\n",
      "3번 학생은 합격입니다.\n",
      "4번 학생은 불합격입니다.\n",
      "5번 학생은 합격입니다.\n"
     ]
    }
   ],
   "source": [
    "marks = [90, 25, 67, 45, 80]\n",
    "bunho = 0\n",
    "\n",
    "for i in marks:\n",
    "    bunho += 1\n",
    "    if i >= 60:\n",
    "        print(f'{bunho}번 학생은 합격입니다.')\n",
    "    else :\n",
    "        print(f'{bunho}번 학생은 불합격입니다.')    "
   ]
  },
  {
   "cell_type": "code",
   "execution_count": 55,
   "metadata": {},
   "outputs": [
    {
     "name": "stdout",
     "output_type": "stream",
     "text": [
      "끝말잇기 게임\n",
      "시작\n",
      "가나다\n",
      "다람쥐\n",
      "쥐구멍\n",
      "멍멍이\n",
      "이빨\n",
      "빨리\n",
      "리모컨\n",
      "컨티뉴\n",
      "끝!\n",
      "땡!\n"
     ]
    }
   ],
   "source": [
    "print('끝말잇기 게임')\n",
    "print('시작')\n",
    "var=\"가나다\"\n",
    "\n",
    "print(var)\n",
    "while True :\n",
    "    word = input('단어를 입력해주세요.: ')\n",
    "    print(word)\n",
    "    if var[-1] == word[0]:\n",
    "        var = word\n",
    "        continue\n",
    "    else:\n",
    "        print('땡!')\n",
    "        break"
   ]
  }
 ],
 "metadata": {
  "kernelspec": {
   "display_name": "Python 3",
   "language": "python",
   "name": "python3"
  },
  "language_info": {
   "codemirror_mode": {
    "name": "ipython",
    "version": 3
   },
   "file_extension": ".py",
   "mimetype": "text/x-python",
   "name": "python",
   "nbconvert_exporter": "python",
   "pygments_lexer": "ipython3",
   "version": "3.13.1"
  }
 },
 "nbformat": 4,
 "nbformat_minor": 2
}
